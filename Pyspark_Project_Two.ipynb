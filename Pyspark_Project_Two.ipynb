{
 "cells": [
  {
   "cell_type": "code",
   "execution_count": 48,
   "id": "8e7a8456",
   "metadata": {},
   "outputs": [],
   "source": [
    "#Big data analytics using  Pyspark on a Real world sales data by Anduamlak_Y.\n",
    "\n",
    "#Tasks\n",
    "    # 1. What is the best month for sales? How much it  was earned ?\n",
    "    # 2. Which city had the highest number of sales?\n",
    "    # 3. What time should we display advertisment to maximize the liklihood of customer for buying products?\n",
    "    # 4. Segregate/Classify all the products with expensive product,mid range product and  cheapest ones?\n",
    "    # 5. How many times each product purchased? Which product is the top purchased one?\n",
    "    # 6. Top fiver ordered Products?"
   ]
  },
  {
   "cell_type": "code",
   "execution_count": 49,
   "id": "ad326af0",
   "metadata": {},
   "outputs": [
    {
     "data": {
      "text/html": [
       "<style>.container { width:100% !important; }</style>"
      ],
      "text/plain": [
       "<IPython.core.display.HTML object>"
      ]
     },
     "metadata": {},
     "output_type": "display_data"
    }
   ],
   "source": [
    "from IPython.display import display, HTML\n",
    "display(HTML(\"<style>.container { width:100% !important; }</style>\"))"
   ]
  },
  {
   "cell_type": "code",
   "execution_count": 50,
   "id": "4a418a47",
   "metadata": {},
   "outputs": [],
   "source": [
    "#Creating spark session and defining the app name\n",
    "from pyspark.sql import SparkSession\n",
    "spark=SparkSession.builder.appName('Pyspark_Project_Sales_Data').getOrCreate()"
   ]
  },
  {
   "cell_type": "code",
   "execution_count": 51,
   "id": "0ed9a013",
   "metadata": {},
   "outputs": [
    {
     "data": {
      "text/html": [
       "\n",
       "            <div>\n",
       "                <p><b>SparkSession - in-memory</b></p>\n",
       "                \n",
       "        <div>\n",
       "            <p><b>SparkContext</b></p>\n",
       "\n",
       "            <p><a href=\"http://ETCSWLSLP154392.ethio.local:4040\">Spark UI</a></p>\n",
       "\n",
       "            <dl>\n",
       "              <dt>Version</dt>\n",
       "                <dd><code>v3.5.0</code></dd>\n",
       "              <dt>Master</dt>\n",
       "                <dd><code>local[*]</code></dd>\n",
       "              <dt>AppName</dt>\n",
       "                <dd><code>Pyspark_Project_Sales_Data</code></dd>\n",
       "            </dl>\n",
       "        </div>\n",
       "        \n",
       "            </div>\n",
       "        "
      ],
      "text/plain": [
       "<pyspark.sql.session.SparkSession at 0x1ffd72b1750>"
      ]
     },
     "execution_count": 51,
     "metadata": {},
     "output_type": "execute_result"
    }
   ],
   "source": [
    "spark"
   ]
  },
  {
   "cell_type": "code",
   "execution_count": 52,
   "id": "6317dddf",
   "metadata": {},
   "outputs": [
    {
     "name": "stdout",
     "output_type": "stream",
     "text": [
      "+---+--------+--------------------+----------------+----------+--------------+--------------------+\n",
      "|_c0|Order ID|             Product|Quantity Ordered|Price Each|    Order Date|    Purchase Address|\n",
      "+---+--------+--------------------+----------------+----------+--------------+--------------------+\n",
      "|  0|  176558|USB-C Charging Cable|               2|     11.95|04/19/19 08:46|917 1st St, Dalla...|\n",
      "|  1|    NULL|                NULL|            NULL|      NULL|          NULL|                NULL|\n",
      "|  2|  176559|Bose SoundSport H...|               1|     99.99|04/07/19 22:30|682 Chestnut St, ...|\n",
      "|  3|  176560|        Google Phone|               1|       600|04/12/19 14:38|669 Spruce St, Lo...|\n",
      "|  4|  176560|    Wired Headphones|               1|     11.99|04/12/19 14:38|669 Spruce St, Lo...|\n",
      "+---+--------+--------------------+----------------+----------+--------------+--------------------+\n",
      "only showing top 5 rows\n",
      "\n"
     ]
    }
   ],
   "source": [
    "df_pyspark=spark.read.csv('allsalesdata.csv',header=True,inferSchema=True)\n",
    "df_pyspark.show(5)"
   ]
  },
  {
   "cell_type": "code",
   "execution_count": 53,
   "id": "b6a214ea",
   "metadata": {},
   "outputs": [],
   "source": [
    "#Data Preprocessing"
   ]
  },
  {
   "cell_type": "code",
   "execution_count": 54,
   "id": "6f1ff761",
   "metadata": {},
   "outputs": [
    {
     "name": "stdout",
     "output_type": "stream",
     "text": [
      "Rows:  186850\n",
      "Columns: 7\n"
     ]
    }
   ],
   "source": [
    "#Total number of rows and columns\n",
    "print('Rows: ', df_pyspark.count())\n",
    "print('Columns:', len(df_pyspark.columns))"
   ]
  },
  {
   "cell_type": "code",
   "execution_count": 55,
   "id": "081d0515",
   "metadata": {},
   "outputs": [
    {
     "name": "stdout",
     "output_type": "stream",
     "text": [
      "+--------+--------------------+----------------+----------+--------------+--------------------+\n",
      "|Order ID|             Product|Quantity Ordered|Price Each|    Order Date|    Purchase Address|\n",
      "+--------+--------------------+----------------+----------+--------------+--------------------+\n",
      "|  176558|USB-C Charging Cable|               2|     11.95|04/19/19 08:46|917 1st St, Dalla...|\n",
      "|    NULL|                NULL|            NULL|      NULL|          NULL|                NULL|\n",
      "|  176559|Bose SoundSport H...|               1|     99.99|04/07/19 22:30|682 Chestnut St, ...|\n",
      "|  176560|        Google Phone|               1|       600|04/12/19 14:38|669 Spruce St, Lo...|\n",
      "|  176560|    Wired Headphones|               1|     11.99|04/12/19 14:38|669 Spruce St, Lo...|\n",
      "+--------+--------------------+----------------+----------+--------------+--------------------+\n",
      "only showing top 5 rows\n",
      "\n"
     ]
    }
   ],
   "source": [
    "#Dropping the colum _c0\n",
    "df_pyspark=df_pyspark.drop('_c0')\n",
    "df_pyspark.show(5)"
   ]
  },
  {
   "cell_type": "code",
   "execution_count": 56,
   "id": "1602862c",
   "metadata": {},
   "outputs": [],
   "source": [
    "#If you want you can  fill null values with missing_value or any other strategy you want (mean,mode...)\n",
    "# df_pyspark.na.fill(\"Missing_Value\").show(3)"
   ]
  },
  {
   "cell_type": "code",
   "execution_count": 57,
   "id": "d3c424c6",
   "metadata": {},
   "outputs": [
    {
     "name": "stdout",
     "output_type": "stream",
     "text": [
      "root\n",
      " |-- Order ID: string (nullable = true)\n",
      " |-- Product: string (nullable = true)\n",
      " |-- Quantity Ordered: string (nullable = true)\n",
      " |-- Price Each: string (nullable = true)\n",
      " |-- Order Date: string (nullable = true)\n",
      " |-- Purchase Address: string (nullable = true)\n",
      "\n"
     ]
    }
   ],
   "source": [
    "df_pyspark.printSchema()"
   ]
  },
  {
   "cell_type": "code",
   "execution_count": 58,
   "id": "8a9ccf6a",
   "metadata": {},
   "outputs": [
    {
     "data": {
      "text/plain": [
       "186305"
      ]
     },
     "execution_count": 58,
     "metadata": {},
     "output_type": "execute_result"
    }
   ],
   "source": [
    "#Handling null values \n",
    "#If 'any', drop a row if it contains any nulls.\n",
    "#If 'all', drop a row only if all its values are null.\n",
    "df_pyspark=df_pyspark.na.drop(how='all')\n",
    "df_pyspark.count()"
   ]
  },
  {
   "cell_type": "code",
   "execution_count": 59,
   "id": "f0dffdd0",
   "metadata": {},
   "outputs": [
    {
     "name": "stdout",
     "output_type": "stream",
     "text": [
      "+--------+--------------------+----------------+----------+--------------+--------------------+\n",
      "|Order ID|             Product|Quantity Ordered|Price Each|    Order Date|    Purchase Address|\n",
      "+--------+--------------------+----------------+----------+--------------+--------------------+\n",
      "|  176558|USB-C Charging Cable|               2|     11.95|04/19/19 08:46|917 1st St, Dalla...|\n",
      "|  176559|Bose SoundSport H...|               1|     99.99|04/07/19 22:30|682 Chestnut St, ...|\n",
      "|  176560|        Google Phone|               1|       600|04/12/19 14:38|669 Spruce St, Lo...|\n",
      "+--------+--------------------+----------------+----------+--------------+--------------------+\n",
      "only showing top 3 rows\n",
      "\n"
     ]
    }
   ],
   "source": [
    "#sales dataframe after removing null values \n",
    "df_pyspark.show(3)"
   ]
  },
  {
   "cell_type": "code",
   "execution_count": 60,
   "id": "9d4d5ffa",
   "metadata": {},
   "outputs": [
    {
     "data": {
      "text/plain": [
       "[Row(Product='Wired Headphones'),\n",
       " Row(Product='Macbook Pro Laptop'),\n",
       " Row(Product='Apple Airpods Headphones'),\n",
       " Row(Product='iPhone'),\n",
       " Row(Product='Lightning Charging Cable'),\n",
       " Row(Product='Bose SoundSport Headphones'),\n",
       " Row(Product='USB-C Charging Cable'),\n",
       " Row(Product='AAA Batteries (4-pack)'),\n",
       " Row(Product='20in Monitor'),\n",
       " Row(Product='27in FHD Monitor'),\n",
       " Row(Product='Vareebadd Phone'),\n",
       " Row(Product='34in Ultrawide Monitor'),\n",
       " Row(Product='LG Dryer'),\n",
       " Row(Product='AA Batteries (4-pack)'),\n",
       " Row(Product='Google Phone'),\n",
       " Row(Product='Flatscreen TV'),\n",
       " Row(Product='LG Washing Machine'),\n",
       " Row(Product='Product'),\n",
       " Row(Product='27in 4K Gaming Monitor'),\n",
       " Row(Product='ThinkPad Laptop')]"
      ]
     },
     "execution_count": 60,
     "metadata": {},
     "output_type": "execute_result"
    }
   ],
   "source": [
    "#Unique Values in 'Product' Column\n",
    "df_pyspark.select('Product').distinct().collect()"
   ]
  },
  {
   "cell_type": "code",
   "execution_count": 61,
   "id": "9b57a489",
   "metadata": {},
   "outputs": [
    {
     "name": "stdout",
     "output_type": "stream",
     "text": [
      "+--------+--------------------+----------------+----------+--------------+--------------------+\n",
      "|Order_ID|             Product|Quantity_Ordered|Price_Each|    Order_Date|    Purchase_Address|\n",
      "+--------+--------------------+----------------+----------+--------------+--------------------+\n",
      "|  176558|USB-C Charging Cable|               2|     11.95|04/19/19 08:46|917 1st St, Dalla...|\n",
      "|  176559|Bose SoundSport H...|               1|     99.99|04/07/19 22:30|682 Chestnut St, ...|\n",
      "|  176560|        Google Phone|               1|       600|04/12/19 14:38|669 Spruce St, Lo...|\n",
      "+--------+--------------------+----------------+----------+--------------+--------------------+\n",
      "only showing top 3 rows\n",
      "\n"
     ]
    }
   ],
   "source": [
    "#Renaming columns and store it in new sales_df\n",
    "sales_df = df_pyspark.withColumnRenamed(\"Order ID\",\"Order_ID\") \\\n",
    "            .withColumnRenamed(\"Quantity Ordered\",\"Quantity_Ordered\") \\\n",
    "            .withColumnRenamed(\"Price Each\",\"Price_Each\") \\\n",
    "            .withColumnRenamed(\"Order Date\",\"Order_Date\") \\\n",
    "            .withColumnRenamed(\"Purchase Address\",\"Purchase_Address\")\n",
    "sales_df.show(3)"
   ]
  },
  {
   "cell_type": "code",
   "execution_count": 62,
   "id": "7b5389f4",
   "metadata": {},
   "outputs": [],
   "source": [
    "sales_df=sales_df[~(sales_df['Order_Date']=='Order Date')]"
   ]
  },
  {
   "cell_type": "code",
   "execution_count": 63,
   "id": "d90f810e",
   "metadata": {},
   "outputs": [
    {
     "name": "stdout",
     "output_type": "stream",
     "text": [
      "+--------+--------------------+----------------+----------+-------------------+--------------------+\n",
      "|Order_ID|             Product|Quantity_Ordered|Price_Each|         Order_Date|    Purchase_Address|\n",
      "+--------+--------------------+----------------+----------+-------------------+--------------------+\n",
      "|  176558|USB-C Charging Cable|               2|     11.95|2019-04-19 08:46:00|917 1st St, Dalla...|\n",
      "|  176559|Bose SoundSport H...|               1|     99.99|2019-04-07 22:30:00|682 Chestnut St, ...|\n",
      "+--------+--------------------+----------------+----------+-------------------+--------------------+\n",
      "only showing top 2 rows\n",
      "\n"
     ]
    }
   ],
   "source": [
    "#Changed the datatype to timestamp for order date  to Derive sales_month , sales_year and sales_date\n",
    "from pyspark.sql import functions as F\n",
    "sales_df = sales_df.withColumn('Order_Date', F.to_timestamp('Order_Date', 'MM/dd/yy HH:mm'))\n",
    "sales_df.show(2)"
   ]
  },
  {
   "cell_type": "code",
   "execution_count": 64,
   "id": "d45d275e",
   "metadata": {},
   "outputs": [
    {
     "name": "stdout",
     "output_type": "stream",
     "text": [
      "root\n",
      " |-- Order_ID: string (nullable = true)\n",
      " |-- Product: string (nullable = true)\n",
      " |-- Quantity_Ordered: integer (nullable = true)\n",
      " |-- Price_Each: float (nullable = true)\n",
      " |-- Order_Date: timestamp (nullable = true)\n",
      " |-- Purchase_Address: string (nullable = true)\n",
      "\n"
     ]
    }
   ],
   "source": [
    "#Casting Quantity_Ordered and Price_Each columns to Int and Float\n",
    "from pyspark.sql.functions import col\n",
    "from pyspark.sql.types import StringType,BooleanType,DateType,IntegerType,FloatType\n",
    "sales_df = sales_df.withColumn(\"Quantity_Ordered\",col(\"Quantity_Ordered\").cast(IntegerType()))  \\\n",
    "           .withColumn(\"Price_Each\",col(\"Price_Each\").cast(FloatType()))\n",
    "sales_df.printSchema()"
   ]
  },
  {
   "cell_type": "code",
   "execution_count": 65,
   "id": "d7da6191",
   "metadata": {},
   "outputs": [
    {
     "name": "stdout",
     "output_type": "stream",
     "text": [
      "+--------+--------------------+----------------+----------+-------------------+--------------------+----------+-----------+---------+\n",
      "|Order_ID|             Product|Quantity_Ordered|Price_Each|         Order_Date|    Purchase_Address|sales_Year|sales_Month|sales_Day|\n",
      "+--------+--------------------+----------------+----------+-------------------+--------------------+----------+-----------+---------+\n",
      "|  176558|USB-C Charging Cable|               2|     11.95|2019-04-19 08:46:00|917 1st St, Dalla...|      2019|          4|       19|\n",
      "|  176559|Bose SoundSport H...|               1|     99.99|2019-04-07 22:30:00|682 Chestnut St, ...|      2019|          4|        7|\n",
      "|  176560|        Google Phone|               1|     600.0|2019-04-12 14:38:00|669 Spruce St, Lo...|      2019|          4|       12|\n",
      "+--------+--------------------+----------------+----------+-------------------+--------------------+----------+-----------+---------+\n",
      "only showing top 3 rows\n",
      "\n"
     ]
    }
   ],
   "source": [
    "#Deriving new column sales_year,sales_month,sales_day \n",
    "from pyspark.sql.functions import month,year,day\n",
    "sales_df=sales_df.withColumn('sales_Year',year(sales_df.Order_Date)) \\\n",
    "                .withColumn('sales_Month',month(sales_df.Order_Date)) \\\n",
    "                 .withColumn('sales_Day',day(sales_df.Order_Date)) \n",
    "sales_df.show(3)"
   ]
  },
  {
   "cell_type": "code",
   "execution_count": 66,
   "id": "9f4d8955",
   "metadata": {},
   "outputs": [
    {
     "name": "stdout",
     "output_type": "stream",
     "text": [
      "+--------+--------------------------+----------------+----------+-------------------+------------------------------------+----------+-----------+---------+-----------+\n",
      "|Order_ID|Product                   |Quantity_Ordered|Price_Each|Order_Date         |Purchase_Address                    |sales_Year|sales_Month|sales_Day|Total_Sales|\n",
      "+--------+--------------------------+----------------+----------+-------------------+------------------------------------+----------+-----------+---------+-----------+\n",
      "|176558  |USB-C Charging Cable      |2               |11.95     |2019-04-19 08:46:00|917 1st St, Dallas, TX 75001        |2019      |4          |19       |23.9       |\n",
      "|176559  |Bose SoundSport Headphones|1               |99.99     |2019-04-07 22:30:00|682 Chestnut St, Boston, MA 02215   |2019      |4          |7        |99.99      |\n",
      "|176560  |Google Phone              |1               |600.0     |2019-04-12 14:38:00|669 Spruce St, Los Angeles, CA 90001|2019      |4          |12       |600.0      |\n",
      "|176560  |Wired Headphones          |1               |11.99     |2019-04-12 14:38:00|669 Spruce St, Los Angeles, CA 90001|2019      |4          |12       |11.99      |\n",
      "|176561  |Wired Headphones          |1               |11.99     |2019-04-30 09:27:00|333 8th St, Los Angeles, CA 90001   |2019      |4          |30       |11.99      |\n",
      "+--------+--------------------------+----------------+----------+-------------------+------------------------------------+----------+-----------+---------+-----------+\n",
      "only showing top 5 rows\n",
      "\n"
     ]
    }
   ],
   "source": [
    "#New column Deriving Total Sales =Quantity_Ordered * Price_Each\n",
    "#Adding False flag to see column value details well\n",
    "sales_df=sales_df.withColumn('Total_Sales',(sales_df.Quantity_Ordered) * (sales_df.Price_Each))\n",
    "sales_df.show(5,False)"
   ]
  },
  {
   "cell_type": "code",
   "execution_count": 67,
   "id": "80b9c4a1",
   "metadata": {},
   "outputs": [
    {
     "name": "stdout",
     "output_type": "stream",
     "text": [
      "root\n",
      " |-- Order_ID: string (nullable = true)\n",
      " |-- Product: string (nullable = true)\n",
      " |-- Quantity_Ordered: integer (nullable = true)\n",
      " |-- Price_Each: float (nullable = true)\n",
      " |-- Order_Date: timestamp (nullable = true)\n",
      " |-- Purchase_Address: string (nullable = true)\n",
      " |-- sales_Year: integer (nullable = true)\n",
      " |-- sales_Month: integer (nullable = true)\n",
      " |-- sales_Day: integer (nullable = true)\n",
      " |-- Total_Sales: float (nullable = true)\n",
      "\n"
     ]
    }
   ],
   "source": [
    "sales_df.printSchema()"
   ]
  },
  {
   "cell_type": "code",
   "execution_count": 68,
   "id": "01472d90",
   "metadata": {},
   "outputs": [
    {
     "name": "stdout",
     "output_type": "stream",
     "text": [
      "+--------+--------------------+----------------+----------+-------------------+--------------------+----------+-----------+---------+-----------+------------+\n",
      "|Order_ID|             Product|Quantity_Ordered|Price_Each|         Order_Date|    Purchase_Address|sales_Year|sales_Month|sales_Day|Total_Sales|        City|\n",
      "+--------+--------------------+----------------+----------+-------------------+--------------------+----------+-----------+---------+-----------+------------+\n",
      "|  176558|USB-C Charging Cable|               2|     11.95|2019-04-19 08:46:00|917 1st St, Dalla...|      2019|          4|       19|       23.9|      Dallas|\n",
      "|  176559|Bose SoundSport H...|               1|     99.99|2019-04-07 22:30:00|682 Chestnut St, ...|      2019|          4|        7|      99.99|      Boston|\n",
      "|  176560|        Google Phone|               1|     600.0|2019-04-12 14:38:00|669 Spruce St, Lo...|      2019|          4|       12|      600.0| Los Angeles|\n",
      "|  176560|    Wired Headphones|               1|     11.99|2019-04-12 14:38:00|669 Spruce St, Lo...|      2019|          4|       12|      11.99| Los Angeles|\n",
      "|  176561|    Wired Headphones|               1|     11.99|2019-04-30 09:27:00|333 8th St, Los A...|      2019|          4|       30|      11.99| Los Angeles|\n",
      "+--------+--------------------+----------------+----------+-------------------+--------------------+----------+-----------+---------+-----------+------------+\n",
      "only showing top 5 rows\n",
      "\n"
     ]
    }
   ],
   "source": [
    "#Deriving new city column from purchase address\n",
    "from pyspark.sql.functions import split\n",
    "sales_df=sales_df.withColumn('City', split(sales_df['Purchase_Address'], ',').getItem(1))\n",
    "sales_df.show(5)"
   ]
  },
  {
   "cell_type": "markdown",
   "id": "81f29488",
   "metadata": {},
   "source": [
    "# Task 1: What is the best month for sales? How much it  was earned ?"
   ]
  },
  {
   "cell_type": "code",
   "execution_count": 69,
   "id": "3eb52501",
   "metadata": {},
   "outputs": [],
   "source": [
    "# I'll apply PySpark SQL which is  one of the most used PySpark modules which is used for\n",
    "# processing structured columnar data format.\n",
    "# Once you have a DataFrame created, you can interact with the data by using SQL syntax."
   ]
  },
  {
   "cell_type": "code",
   "execution_count": 70,
   "id": "d7745de3",
   "metadata": {},
   "outputs": [],
   "source": [
    "#Creating Temporal tables and Access the table using PySpark SQL Query\n",
    "sales_df.createOrReplaceTempView('sales_temp_view')"
   ]
  },
  {
   "cell_type": "code",
   "execution_count": 71,
   "id": "05056f0d",
   "metadata": {},
   "outputs": [],
   "source": [
    "Best_month_sales=spark.sql('SELECT sales_Month,round(sum(Total_sales),2) as Total_Sales  \\\n",
    "                  From  sales_temp_view group by 1 order by 2 desc limit 3 ')"
   ]
  },
  {
   "cell_type": "code",
   "execution_count": 72,
   "id": "fa47a872",
   "metadata": {},
   "outputs": [
    {
     "name": "stdout",
     "output_type": "stream",
     "text": [
      "+-----------+-----------+\n",
      "|sales_Month|Total_Sales|\n",
      "+-----------+-----------+\n",
      "|         12| 4613443.32|\n",
      "|         10| 3736726.86|\n",
      "|          4| 3390670.22|\n",
      "+-----------+-----------+\n",
      "\n"
     ]
    }
   ],
   "source": [
    "Best_month_sales.show()\n",
    "#Answer 1: October and Decemeber are the best monthes for selling products."
   ]
  },
  {
   "cell_type": "markdown",
   "id": "ef814d9f",
   "metadata": {},
   "source": [
    "# Task 2. Which city had the highest number of sales?"
   ]
  },
  {
   "cell_type": "code",
   "execution_count": 73,
   "id": "2fce4edc",
   "metadata": {},
   "outputs": [],
   "source": [
    "City_highest_sales=spark.sql('SELECT City,round(sum(Total_sales),2) as Total_Sales  \\\n",
    "                          From  sales_temp_view group by 1 order by 2 desc limit 5 ')"
   ]
  },
  {
   "cell_type": "code",
   "execution_count": 74,
   "id": "22ad8f64",
   "metadata": {},
   "outputs": [
    {
     "name": "stdout",
     "output_type": "stream",
     "text": [
      "+--------------+-----------+\n",
      "|          City|Total_Sales|\n",
      "+--------------+-----------+\n",
      "| San Francisco| 8262203.87|\n",
      "|   Los Angeles| 5452570.77|\n",
      "| New York City| 4664317.41|\n",
      "|        Boston| 3661641.99|\n",
      "|       Atlanta| 2795498.57|\n",
      "+--------------+-----------+\n",
      "\n"
     ]
    }
   ],
   "source": [
    "City_highest_sales.show()\n",
    "# Answer 2: San fransisco and Los Angeles are those cities with highest number of sales.  "
   ]
  },
  {
   "cell_type": "markdown",
   "id": "d87637ae",
   "metadata": {},
   "source": [
    "# Task 3. What time should we display advertisment to maximize the liklihood of customer for buying products?"
   ]
  },
  {
   "cell_type": "code",
   "execution_count": 75,
   "id": "1b1d450b",
   "metadata": {},
   "outputs": [
    {
     "name": "stdout",
     "output_type": "stream",
     "text": [
      "+--------+--------------------+----------------+----------+-------------------+--------------------+----------+-----------+---------+-----------+------------+----------+\n",
      "|Order_ID|             Product|Quantity_Ordered|Price_Each|         Order_Date|    Purchase_Address|sales_Year|sales_Month|sales_Day|Total_Sales|        City|Sales_Hour|\n",
      "+--------+--------------------+----------------+----------+-------------------+--------------------+----------+-----------+---------+-----------+------------+----------+\n",
      "|  176558|USB-C Charging Cable|               2|     11.95|2019-04-19 08:46:00|917 1st St, Dalla...|      2019|          4|       19|       23.9|      Dallas|         8|\n",
      "|  176559|Bose SoundSport H...|               1|     99.99|2019-04-07 22:30:00|682 Chestnut St, ...|      2019|          4|        7|      99.99|      Boston|        22|\n",
      "|  176560|        Google Phone|               1|     600.0|2019-04-12 14:38:00|669 Spruce St, Lo...|      2019|          4|       12|      600.0| Los Angeles|        14|\n",
      "+--------+--------------------+----------------+----------+-------------------+--------------------+----------+-----------+---------+-----------+------------+----------+\n",
      "only showing top 3 rows\n",
      "\n"
     ]
    }
   ],
   "source": [
    "#Deriving new column Sales_Hour from order_date to extract the time alone\n",
    "from pyspark.sql.functions import hour\n",
    "sales_df=sales_df.withColumn('Sales_Hour',hour(sales_df.Order_Date)) \n",
    "sales_df.show(3)"
   ]
  },
  {
   "cell_type": "code",
   "execution_count": 76,
   "id": "c78249f7",
   "metadata": {},
   "outputs": [],
   "source": [
    "#Creating Temporal tables and Access the table using PySpark SQL Query\n",
    "sales_df.createOrReplaceTempView('sales_temp_view')"
   ]
  },
  {
   "cell_type": "code",
   "execution_count": 77,
   "id": "088d7d73",
   "metadata": {},
   "outputs": [],
   "source": [
    "Time_Display_Advertizement=spark.sql('SELECT Sales_Hour, count(Order_ID) as Total_Orders  \\\n",
    "                                     From  sales_temp_view group by 1 order by 2 desc limit 5 ')"
   ]
  },
  {
   "cell_type": "code",
   "execution_count": 78,
   "id": "c3fd4b69",
   "metadata": {},
   "outputs": [
    {
     "name": "stdout",
     "output_type": "stream",
     "text": [
      "+----------+------------+\n",
      "|Sales_Hour|Total_Orders|\n",
      "+----------+------------+\n",
      "|        19|       12905|\n",
      "|        12|       12587|\n",
      "|        11|       12411|\n",
      "|        18|       12280|\n",
      "|        20|       12228|\n",
      "+----------+------------+\n",
      "\n"
     ]
    }
   ],
   "source": [
    "Time_Display_Advertizement.show()\n",
    "#Answer : @ 19 and 12 are the right times to display advertisment to maximize the liklihood of customer for buying products"
   ]
  },
  {
   "cell_type": "markdown",
   "id": "6fe6bee1",
   "metadata": {},
   "source": [
    "# Task 4: Segregate/Classify all the products with expensive product,mid range product and the cheaper ones?"
   ]
  },
  {
   "cell_type": "code",
   "execution_count": 79,
   "id": "10474044",
   "metadata": {},
   "outputs": [],
   "source": [
    "Classify_Product=spark.sql('SELECT *,ntile(3) over(order by Price_Each desc) as segregation  \\\n",
    "             From sales_temp_view ')"
   ]
  },
  {
   "cell_type": "code",
   "execution_count": 80,
   "id": "c1aa17c5",
   "metadata": {},
   "outputs": [
    {
     "name": "stdout",
     "output_type": "stream",
     "text": [
      "+--------+------------------+----------------+----------+-------------------+--------------------+----------+-----------+---------+-----------+--------------+----------+-----------+\n",
      "|Order_ID|           Product|Quantity_Ordered|Price_Each|         Order_Date|    Purchase_Address|sales_Year|sales_Month|sales_Day|Total_Sales|          City|Sales_Hour|segregation|\n",
      "+--------+------------------+----------------+----------+-------------------+--------------------+----------+-----------+---------+-----------+--------------+----------+-----------+\n",
      "|  176565|Macbook Pro Laptop|               1|    1700.0|2019-04-24 10:38:00|915 Willow St, Sa...|      2019|          4|       24|     1700.0| San Francisco|        10|          1|\n",
      "|  176639|Macbook Pro Laptop|               1|    1700.0|2019-04-28 16:14:00|853 Cedar St, San...|      2019|          4|       28|     1700.0| San Francisco|        16|          1|\n",
      "|  176643|Macbook Pro Laptop|               1|    1700.0|2019-04-27 21:32:00|373 Adams St, Bos...|      2019|          4|       27|     1700.0|        Boston|        21|          1|\n",
      "+--------+------------------+----------------+----------+-------------------+--------------------+----------+-----------+---------+-----------+--------------+----------+-----------+\n",
      "only showing top 3 rows\n",
      "\n"
     ]
    }
   ],
   "source": [
    "Classify_Product.show(3)"
   ]
  },
  {
   "cell_type": "code",
   "execution_count": 81,
   "id": "5eb9bbce",
   "metadata": {},
   "outputs": [
    {
     "name": "stdout",
     "output_type": "stream",
     "text": [
      "+------------------+----------+\n",
      "|           Product|Price_Each|\n",
      "+------------------+----------+\n",
      "|Macbook Pro Laptop|    1700.0|\n",
      "+------------------+----------+\n",
      "only showing top 1 row\n",
      "\n"
     ]
    }
   ],
   "source": [
    "#Segregation result 1 means : highly expensive product, 2 means :medium level and 3 means cheaper one.\n",
    "expensive_product=Classify_Product.filter(Classify_Product['segregation']==1).select('Product','Price_Each').orderBy('Price_Each',ascending=0)\n",
    "expensive_product.show(1)\n",
    "# Macbook Pro Laptop  is expensive one."
   ]
  },
  {
   "cell_type": "code",
   "execution_count": 82,
   "id": "4aad5fa7",
   "metadata": {},
   "outputs": [
    {
     "name": "stdout",
     "output_type": "stream",
     "text": [
      "+--------------------+----------+\n",
      "|             product|price_each|\n",
      "+--------------------+----------+\n",
      "|AAA Batteries (4-...|      2.99|\n",
      "+--------------------+----------+\n",
      "\n"
     ]
    }
   ],
   "source": [
    "Cheaper_product=Classify_Product.filter(Classify_Product['segregation']==3).select('Product','Price_Each')\n",
    "Cheaper_product.createOrReplaceTempView('cheaper_product')\n",
    "spark.sql('SELECT product,price_each From cheaper_product  where \\\n",
    "        Price_Each=(select min(Price_Each) from cheaper_product) limit 1 ').show()\n",
    "# AAA Batteries (4-pack) is the cheapest one."
   ]
  },
  {
   "cell_type": "markdown",
   "id": "bc14f2b5",
   "metadata": {},
   "source": [
    "# 5. How many times each product purchased? Which product is the top purchased one?"
   ]
  },
  {
   "cell_type": "code",
   "execution_count": 83,
   "id": "fdfe935a",
   "metadata": {},
   "outputs": [
    {
     "name": "stdout",
     "output_type": "stream",
     "text": [
      "+--------------------+---------------------+\n",
      "|             product|Total_Purchased_Count|\n",
      "+--------------------+---------------------+\n",
      "|USB-C Charging Cable|                21903|\n",
      "|Lightning Chargin...|                21658|\n",
      "|AAA Batteries (4-...|                20641|\n",
      "|AA Batteries (4-p...|                20577|\n",
      "|    Wired Headphones|                18882|\n",
      "|Apple Airpods Hea...|                15549|\n",
      "|Bose SoundSport H...|                13325|\n",
      "|    27in FHD Monitor|                 7507|\n",
      "|              iPhone|                 6842|\n",
      "|27in 4K Gaming Mo...|                 6230|\n",
      "|34in Ultrawide Mo...|                 6181|\n",
      "|        Google Phone|                 5525|\n",
      "|       Flatscreen TV|                 4800|\n",
      "|  Macbook Pro Laptop|                 4724|\n",
      "|     ThinkPad Laptop|                 4128|\n",
      "|        20in Monitor|                 4101|\n",
      "|     Vareebadd Phone|                 2065|\n",
      "|  LG Washing Machine|                  666|\n",
      "|            LG Dryer|                  646|\n",
      "+--------------------+---------------------+\n",
      "\n"
     ]
    }
   ],
   "source": [
    "Product_purchase_count=spark.sql('SELECT product,count(order_ID) as Total_Purchased_Count  \\\n",
    "                                From sales_temp_view  group by 1 order by 2 desc')\n",
    "Product_purchase_count.show()\n",
    "\n",
    "#Top Purchased product : USB-C Charging Cable and Total purchased count 21903"
   ]
  },
  {
   "cell_type": "markdown",
   "id": "062938d8",
   "metadata": {},
   "source": [
    "# 6. Top fiver ordered Products?"
   ]
  },
  {
   "cell_type": "code",
   "execution_count": 84,
   "id": "26a76dd6",
   "metadata": {},
   "outputs": [
    {
     "name": "stdout",
     "output_type": "stream",
     "text": [
      "+------------------------+---------------------+\n",
      "|product                 |Total_Purchased_Count|\n",
      "+------------------------+---------------------+\n",
      "|USB-C Charging Cable    |21903                |\n",
      "|Lightning Charging Cable|21658                |\n",
      "|AAA Batteries (4-pack)  |20641                |\n",
      "|AA Batteries (4-pack)   |20577                |\n",
      "|Wired Headphones        |18882                |\n",
      "+------------------------+---------------------+\n",
      "only showing top 5 rows\n",
      "\n"
     ]
    }
   ],
   "source": [
    "Product_purchase_count.show(5,False)"
   ]
  },
  {
   "cell_type": "code",
   "execution_count": 86,
   "id": "a788f328",
   "metadata": {},
   "outputs": [],
   "source": [
    "#Thank you!"
   ]
  },
  {
   "cell_type": "code",
   "execution_count": null,
   "id": "2515eb15",
   "metadata": {},
   "outputs": [],
   "source": []
  },
  {
   "cell_type": "code",
   "execution_count": null,
   "id": "6a77c567",
   "metadata": {},
   "outputs": [],
   "source": []
  }
 ],
 "metadata": {
  "kernelspec": {
   "display_name": "Python 3 (ipykernel)",
   "language": "python",
   "name": "python3"
  },
  "language_info": {
   "codemirror_mode": {
    "name": "ipython",
    "version": 3
   },
   "file_extension": ".py",
   "mimetype": "text/x-python",
   "name": "python",
   "nbconvert_exporter": "python",
   "pygments_lexer": "ipython3",
   "version": "3.11.2"
  }
 },
 "nbformat": 4,
 "nbformat_minor": 5
}
